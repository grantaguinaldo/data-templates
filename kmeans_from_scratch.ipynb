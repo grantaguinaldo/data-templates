{
 "cells": [
  {
   "cell_type": "code",
   "execution_count": null,
   "metadata": {},
   "outputs": [],
   "source": [
    "from sklearn.datasets.samples_generator import make_blobs\n",
    "import matplotlib.pyplot as plt\n",
    "import numpy as np\n",
    "import pandas as pd\n",
    "\n",
    "k = 3\n",
    "\n",
    "X, y = make_blobs(n_samples=10000, n_features=2, \n",
    "                  centers=k, random_state=42,\n",
    "                  cluster_std=2)"
   ]
  },
  {
   "cell_type": "code",
   "execution_count": null,
   "metadata": {
    "collapsed": true
   },
   "outputs": [],
   "source": [
    "def create_centroids(data_x, k):\n",
    "    \n",
    "    min_data_x = np.min(data_x[:, 0])\n",
    "    max_data_x = np.max(data_x[:, 0])\n",
    "    min_data_y = np.min(data_x[:, 1])\n",
    "    max_data_y = np.max(data_x[:, 1])\n",
    "\n",
    "    random_x_list = [np.random.uniform(min_data_x, max_data_x) for each in range(k)]\n",
    "\n",
    "    random_y_list = [np.random.uniform(min_data_y, max_data_y) for each in range(k)]\n",
    "\n",
    "    zipped_list = list(zip(random_x_list, random_y_list))\n",
    "        \n",
    "    return np.array(zipped_list)\n",
    "\n",
    "centroids = create_centroids(data_x=X, k=3)"
   ]
  },
  {
   "cell_type": "code",
   "execution_count": null,
   "metadata": {},
   "outputs": [],
   "source": [
    "df_points = pd.DataFrame(X, columns=['X_Value', 'Y_Value'])\n",
    "\n",
    "df_points['ED_1'] = (((df_points['X_Value'] - centroids[0][0])**2) + \\\n",
    "                    ((df_points['Y_Value'] - centroids[0][1])**2))**(0.5)\n",
    "\n",
    "df_points['ED_2'] = (((df_points['X_Value'] - centroids[1][0])**2) + \\\n",
    "                    ((df_points['Y_Value'] - centroids[1][1])**2))**(0.5)\n",
    "\n",
    "df_points['ED_3'] = (((df_points['X_Value'] - centroids[2][0])**2) + \\\n",
    "                    ((df_points['Y_Value'] - centroids[2][1])**2))**(0.5)\n",
    "\n",
    "df_points['CLUSTER_ID'] = df_points[['ED_1', 'ED_2', 'ED_3']].idxmin(axis=1)"
   ]
  },
  {
   "cell_type": "code",
   "execution_count": null,
   "metadata": {},
   "outputs": [],
   "source": [
    "df_points.head()"
   ]
  },
  {
   "cell_type": "code",
   "execution_count": null,
   "metadata": {},
   "outputs": [],
   "source": [
    "df_points.CLUSTER_ID.value_counts()"
   ]
  },
  {
   "cell_type": "code",
   "execution_count": null,
   "metadata": {
    "collapsed": true
   },
   "outputs": [],
   "source": [
    "new_clusters = [[df_points[df_points['CLUSTER_ID'] == 'ED_1']['X_Value'].mean(), \\\n",
    "df_points[df_points['CLUSTER_ID'] == 'ED_1']['Y_Value'].mean()],\n",
    "\n",
    "[df_points[df_points['CLUSTER_ID'] == 'ED_2']['X_Value'].mean(), \\\n",
    "df_points[df_points['CLUSTER_ID'] == 'ED_2']['Y_Value'].mean()],\n",
    "\n",
    "[df_points[df_points['CLUSTER_ID'] == 'ED_3']['X_Value'].mean(), \\\n",
    "df_points[df_points['CLUSTER_ID'] == 'ED_3']['Y_Value'].mean()]]"
   ]
  },
  {
   "cell_type": "code",
   "execution_count": null,
   "metadata": {},
   "outputs": [],
   "source": [
    "new_clusters"
   ]
  },
  {
   "cell_type": "code",
   "execution_count": null,
   "metadata": {},
   "outputs": [],
   "source": [
    "plt.scatter(centroids[:, 0], centroids[:, 1], \n",
    "            color='red', s=75, \n",
    "            zorder=2000, alpha=1)\n",
    "plt.scatter(X[:, 0], X[:, 1], c=y, alpha=0.5)\n",
    "plt.show()\n",
    "\n",
    "plt.scatter(np.array(new_clusters)[: , 0], \n",
    "            np.array(new_clusters)[: , 1], \n",
    "            color='red', s=75, \n",
    "            zorder=500, alpha=1)\n",
    "\n",
    "plt.scatter(X[:, 0], X[:, 1], c=y, alpha=0.25)\n",
    "plt.title('k-Means Clustering after One Iteration')\n",
    "plt.show()"
   ]
  },
  {
   "cell_type": "code",
   "execution_count": null,
   "metadata": {},
   "outputs": [],
   "source": [
    "np.array(new_clusters)"
   ]
  },
  {
   "cell_type": "code",
   "execution_count": null,
   "metadata": {
    "collapsed": true
   },
   "outputs": [],
   "source": [
    "df_points = pd.DataFrame(X, columns=['X_Value', 'Y_Value'])\n",
    "\n",
    "df_points['ED_1'] = (((df_points['X_Value'] - new_clusters[0][0])**2) + \\\n",
    "                    ((df_points['Y_Value'] - new_clusters[0][1])**2))**(0.5)\n",
    "\n",
    "df_points['ED_2'] = (((df_points['X_Value'] - new_clusters[1][0])**2) + \\\n",
    "                    ((df_points['Y_Value'] - new_clusters[1][1])**2))**(0.5)\n",
    "\n",
    "df_points['ED_3'] = (((df_points['X_Value'] - new_clusters[2][0])**2) + \\\n",
    "                    ((df_points['Y_Value'] - new_clusters[2][1])**2))**(0.5)\n",
    "\n",
    "df_points['CLUSTER_ID'] = df_points[['ED_1', 'ED_2', 'ED_3']].idxmin(axis=1)"
   ]
  },
  {
   "cell_type": "code",
   "execution_count": null,
   "metadata": {},
   "outputs": [],
   "source": [
    "df_points.head()"
   ]
  },
  {
   "cell_type": "code",
   "execution_count": null,
   "metadata": {},
   "outputs": [],
   "source": [
    "df_points.CLUSTER_ID.value_counts()"
   ]
  },
  {
   "cell_type": "code",
   "execution_count": null,
   "metadata": {
    "collapsed": true
   },
   "outputs": [],
   "source": [
    "new_clusters2 = [[df_points[df_points['CLUSTER_ID'] == 'ED_1']['X_Value'].mean(), \\\n",
    "df_points[df_points['CLUSTER_ID'] == 'ED_1']['Y_Value'].mean()],\n",
    "\n",
    "[df_points[df_points['CLUSTER_ID'] == 'ED_2']['X_Value'].mean(), \\\n",
    "df_points[df_points['CLUSTER_ID'] == 'ED_2']['Y_Value'].mean()],\n",
    "\n",
    "[df_points[df_points['CLUSTER_ID'] == 'ED_3']['X_Value'].mean(), \\\n",
    "df_points[df_points['CLUSTER_ID'] == 'ED_3']['Y_Value'].mean()]]"
   ]
  },
  {
   "cell_type": "code",
   "execution_count": null,
   "metadata": {},
   "outputs": [],
   "source": [
    "plt.scatter(np.array(new_clusters)[:, 0], np.array(new_clusters)[:, 1], \n",
    "            color='red', s=75, \n",
    "            zorder=2000, alpha=1)\n",
    "plt.scatter(X[:, 0], X[:, 1], c=y, alpha=0.5)\n",
    "plt.show()\n",
    "\n",
    "plt.scatter(np.array(new_clusters2)[: , 0], \n",
    "            np.array(new_clusters2)[: , 1], \n",
    "            color='red', s=75, \n",
    "            zorder=500, alpha=1)\n",
    "\n",
    "plt.scatter(X[:, 0], X[:, 1], c=y, alpha=0.25)\n",
    "plt.title('k-Means Clustering after One Iteration')\n",
    "plt.show()"
   ]
  },
  {
   "cell_type": "code",
   "execution_count": null,
   "metadata": {},
   "outputs": [],
   "source": [
    "np.array(new_clusters2)"
   ]
  },
  {
   "cell_type": "code",
   "execution_count": null,
   "metadata": {
    "collapsed": true
   },
   "outputs": [],
   "source": [
    "df_points = pd.DataFrame(X, columns=['X_Value', 'Y_Value'])\n",
    "\n",
    "df_points['ED_1'] = (((df_points['X_Value'] - new_clusters2[0][0])**2) + \\\n",
    "                    ((df_points['Y_Value'] - new_clusters2[0][1])**2))**(0.5)\n",
    "\n",
    "df_points['ED_2'] = (((df_points['X_Value'] - new_clusters2[1][0])**2) + \\\n",
    "                    ((df_points['Y_Value'] - new_clusters2[1][1])**2))**(0.5)\n",
    "\n",
    "df_points['ED_3'] = (((df_points['X_Value'] - new_clusters2[2][0])**2) + \\\n",
    "                    ((df_points['Y_Value'] - new_clusters2[2][1])**2))**(0.5)\n",
    "\n",
    "df_points['CLUSTER_ID'] = df_points[['ED_1', 'ED_2', 'ED_3']].idxmin(axis=1)"
   ]
  },
  {
   "cell_type": "code",
   "execution_count": null,
   "metadata": {},
   "outputs": [],
   "source": [
    "df_points.head()"
   ]
  },
  {
   "cell_type": "code",
   "execution_count": null,
   "metadata": {},
   "outputs": [],
   "source": [
    "df_points.CLUSTER_ID.value_counts()"
   ]
  },
  {
   "cell_type": "code",
   "execution_count": null,
   "metadata": {
    "collapsed": true
   },
   "outputs": [],
   "source": [
    "new_clusters3 = [[df_points[df_points['CLUSTER_ID'] == 'ED_1']['X_Value'].mean(), \\\n",
    "df_points[df_points['CLUSTER_ID'] == 'ED_1']['Y_Value'].mean()],\n",
    "\n",
    "[df_points[df_points['CLUSTER_ID'] == 'ED_2']['X_Value'].mean(), \\\n",
    "df_points[df_points['CLUSTER_ID'] == 'ED_2']['Y_Value'].mean()],\n",
    "\n",
    "[df_points[df_points['CLUSTER_ID'] == 'ED_3']['X_Value'].mean(), \\\n",
    "df_points[df_points['CLUSTER_ID'] == 'ED_3']['Y_Value'].mean()]]"
   ]
  },
  {
   "cell_type": "code",
   "execution_count": null,
   "metadata": {},
   "outputs": [],
   "source": [
    "plt.scatter(np.array(new_clusters2)[:, 0], np.array(new_clusters2)[:, 1], \n",
    "            color='red', s=75, \n",
    "            zorder=2000, alpha=1)\n",
    "plt.scatter(X[:, 0], X[:, 1], c=y, alpha=0.5)\n",
    "plt.show()\n",
    "\n",
    "plt.scatter(np.array(new_clusters3)[: , 0], \n",
    "            np.array(new_clusters3)[: , 1], \n",
    "            color='red', s=75, \n",
    "            zorder=500, alpha=1)\n",
    "\n",
    "plt.scatter(X[:, 0], X[:, 1], c=y, alpha=0.25)\n",
    "plt.title('k-Means Clustering after One Iteration')\n",
    "plt.show()"
   ]
  },
  {
   "cell_type": "code",
   "execution_count": null,
   "metadata": {},
   "outputs": [],
   "source": [
    "np.array(new_clusters3)"
   ]
  },
  {
   "cell_type": "code",
   "execution_count": null,
   "metadata": {
    "collapsed": true
   },
   "outputs": [],
   "source": [
    "df_points = pd.DataFrame(X, columns=['X_Value', 'Y_Value'])\n",
    "\n",
    "df_points['ED_1'] = (((df_points['X_Value'] - new_clusters3[0][0])**2) + \\\n",
    "                    ((df_points['Y_Value'] - new_clusters3[0][1])**2))**(0.5)\n",
    "\n",
    "df_points['ED_2'] = (((df_points['X_Value'] - new_clusters3[1][0])**2) + \\\n",
    "                    ((df_points['Y_Value'] - new_clusters3[1][1])**2))**(0.5)\n",
    "\n",
    "df_points['ED_3'] = (((df_points['X_Value'] - new_clusters3[2][0])**2) + \\\n",
    "                    ((df_points['Y_Value'] - new_clusters3[2][1])**2))**(0.5)\n",
    "\n",
    "df_points['CLUSTER_ID'] = df_points[['ED_1', 'ED_2', 'ED_3']].idxmin(axis=1)"
   ]
  },
  {
   "cell_type": "code",
   "execution_count": null,
   "metadata": {},
   "outputs": [],
   "source": [
    "df_points.head()"
   ]
  },
  {
   "cell_type": "code",
   "execution_count": null,
   "metadata": {},
   "outputs": [],
   "source": [
    "df_points.CLUSTER_ID.value_counts()"
   ]
  },
  {
   "cell_type": "code",
   "execution_count": null,
   "metadata": {
    "collapsed": true
   },
   "outputs": [],
   "source": [
    "new_clusters4 = [[df_points[df_points['CLUSTER_ID'] == 'ED_1']['X_Value'].mean(), \\\n",
    "df_points[df_points['CLUSTER_ID'] == 'ED_1']['Y_Value'].mean()],\n",
    "\n",
    "[df_points[df_points['CLUSTER_ID'] == 'ED_2']['X_Value'].mean(), \\\n",
    "df_points[df_points['CLUSTER_ID'] == 'ED_2']['Y_Value'].mean()],\n",
    "\n",
    "[df_points[df_points['CLUSTER_ID'] == 'ED_3']['X_Value'].mean(), \\\n",
    "df_points[df_points['CLUSTER_ID'] == 'ED_3']['Y_Value'].mean()]]"
   ]
  },
  {
   "cell_type": "code",
   "execution_count": null,
   "metadata": {},
   "outputs": [],
   "source": [
    "plt.scatter(np.array(new_clusters3)[:, 0], np.array(new_clusters3)[:, 1], \n",
    "            color='red', s=75, \n",
    "            zorder=2000, alpha=1)\n",
    "plt.scatter(X[:, 0], X[:, 1], c=y, alpha=0.5)\n",
    "plt.show()\n",
    "\n",
    "plt.scatter(np.array(new_clusters4)[: , 0], \n",
    "            np.array(new_clusters4)[: , 1], \n",
    "            color='red', s=75, \n",
    "            zorder=500, alpha=1)\n",
    "\n",
    "plt.scatter(X[:, 0], X[:, 1], c=y, alpha=0.25)\n",
    "plt.title('k-Means Clustering after One Iteration')\n",
    "plt.show()"
   ]
  },
  {
   "cell_type": "code",
   "execution_count": null,
   "metadata": {},
   "outputs": [],
   "source": [
    "np.array(new_clusters4)"
   ]
  },
  {
   "cell_type": "code",
   "execution_count": null,
   "metadata": {
    "collapsed": true
   },
   "outputs": [],
   "source": []
  },
  {
   "cell_type": "code",
   "execution_count": null,
   "metadata": {
    "collapsed": true
   },
   "outputs": [],
   "source": []
  },
  {
   "cell_type": "code",
   "execution_count": null,
   "metadata": {
    "collapsed": true
   },
   "outputs": [],
   "source": []
  },
  {
   "cell_type": "code",
   "execution_count": null,
   "metadata": {
    "collapsed": true
   },
   "outputs": [],
   "source": []
  },
  {
   "cell_type": "code",
   "execution_count": null,
   "metadata": {
    "collapsed": true
   },
   "outputs": [],
   "source": []
  },
  {
   "cell_type": "code",
   "execution_count": null,
   "metadata": {
    "collapsed": true
   },
   "outputs": [],
   "source": []
  },
  {
   "cell_type": "code",
   "execution_count": 5,
   "metadata": {},
   "outputs": [],
   "source": [
    "import numpy as np\n",
    "\n",
    "def create_centroids(data_x, k):\n",
    "    \n",
    "    '''    \n",
    "    Inputs:\n",
    "            data_x: A numpy array containing the x- and y-coordinates\n",
    "            of the points in the dataset.\n",
    "            \n",
    "            k: Integer value of the number of centroids used.\n",
    "            \n",
    "    Returns: \n",
    "            A numpy array that contains the x- and y-coordinates\n",
    "            of the k centroids. \n",
    "    '''\n",
    "    \n",
    "    min_data_x = np.min(data_x[:, 0])\n",
    "    max_data_x = np.max(data_x[:, 0])\n",
    "    min_data_y = np.min(data_x[:, 1])\n",
    "    max_data_y = np.max(data_x[:, 1])\n",
    "\n",
    "    random_x_list = [np.random.uniform(min_data_x, max_data_x) for each in range(k)]\n",
    "\n",
    "    random_y_list = [np.random.uniform(min_data_y, max_data_y) for each in range(k)]\n",
    "\n",
    "    zipped_list = list(zip(random_x_list, random_y_list))\n",
    "        \n",
    "    return np.array(zipped_list)\n",
    "\n",
    "def calculate_distance(data_x, centroid_data, k):\n",
    "    \n",
    "    '''\n",
    "    Inputs:\n",
    "            data_x: A numpy array containing the x- and y-coordinates\n",
    "            of the points in the dataset.\n",
    "            \n",
    "            centroid_data: A numpy array that contains the x- and y-coordinates\n",
    "            of the three k centroids.\n",
    "            \n",
    "            k: Integer value of the number of centroids used.\n",
    "            \n",
    "    Returns: \n",
    "            A numpy array that contains the euclidean distance \n",
    "            between each data point and each of the k centroids. \n",
    "    \n",
    "    '''\n",
    "    \n",
    "    dist_list = [(((X[:, 0] - centroid_data[each][0])**2) + \\\n",
    "                (X[:, 1] - centroid_data[each][1])**2)**(0.5) \\\n",
    "               for each in range(k)]\n",
    "    return np.array(dist_list)\n",
    "\n",
    "def new_assignment(data_x, centroids_position, k):\n",
    "    \n",
    "    '''\n",
    "    Inputs:\n",
    "            data_x: A numpy array containing the x- and y-coordinates\n",
    "            of the points in the dataset.\n",
    "            \n",
    "            centroids_position: A numpy array containing the\n",
    "            x- and y-coordinates of the k centroids.\n",
    "            \n",
    "            k: Integer value of the number of centroids used.\n",
    "    \n",
    "    Returns:\n",
    "            A numpy array that contains the new cluster assignments \n",
    "            for each of the data points in the set. The assignments\n",
    "            are based on the smallest euclidean distance value across\n",
    "            all of the k centroids. \n",
    "    '''\n",
    "    \n",
    "    return calculate_distance(data_x, centroids_position, k)[:].T.argmin(axis=1)\n",
    "\n",
    "def new_centroid(data_x, centroids_position, k):\n",
    "    \n",
    "    '''\n",
    "    Inputs:\n",
    "            data_x: A numpy array containing the x- and y-coordinates\n",
    "            of the points in the dataset.\n",
    "            \n",
    "            centroids_position: A numpy array containing the\n",
    "            x- and y-coordinates of the k centroids.\n",
    "            \n",
    "            k: Integer value of the number of centroids used.\n",
    "            \n",
    "    Returns: \n",
    "            A numpy array that contains the x- and y-coordinates\n",
    "            of the new k centroids.\n",
    "    '''\n",
    "    \n",
    "    new_assignment_ = new_assignment(X, centroids, k)\n",
    "    \n",
    "    return_list_x = [data_x[new_assignment_ == each][:, 0].mean() for each in range(k)]\n",
    "    return_list_y = [data_x[new_assignment_ == each][:, 1].mean() for each in range(k)]\n",
    "        \n",
    "    return np.array([return_list_x, return_list_y]).T"
   ]
  },
  {
   "cell_type": "code",
   "execution_count": 6,
   "metadata": {},
   "outputs": [],
   "source": [
    "from sklearn.datasets.samples_generator import make_blobs\n",
    "import matplotlib.pyplot as plt\n",
    "k = 3\n",
    "X, y = make_blobs(n_samples=1000, n_features=2, \n",
    "                  centers=k, random_state=42,\n",
    "                  cluster_std=5)"
   ]
  },
  {
   "cell_type": "code",
   "execution_count": 7,
   "metadata": {},
   "outputs": [],
   "source": [
    "counter = 0\n",
    "max_iter = 100\n",
    "centroid_history = []\n",
    "centroids = create_centroids(data_x=X, k=3)\n",
    "centroid_history.append(centroids)\n",
    "\n",
    "while counter <= max_iter:\n",
    "    distances = calculate_distance(data_x=X, centroid_data=centroid_history[-1], k=3)\n",
    "    assignments = new_assignment(data_x=X, centroids_position=centroid_history[-1], k=3)\n",
    "    centroids = new_centroid(data_x=X, centroids_position=centroid_history[-1], k=3)\n",
    "    centroid_history.append(centroids)\n",
    "    counter += 1"
   ]
  },
  {
   "cell_type": "code",
   "execution_count": 18,
   "metadata": {},
   "outputs": [
    {
     "data": {
      "image/png": "[encoded data removed]",
      "text/plain": [
       "<Figure size 432x288 with 1 Axes>"
      ]
     },
     "metadata": {},
     "output_type": "display_data"
    }
   ],
   "source": [
    "plt.scatter(centroid_history[0][: , 0], \n",
    "            centroid_history[0][: , 1], \n",
    "            color='red', s=100, \n",
    "            zorder=500, alpha=1)\n",
    "\n",
    "plt.scatter(centroid_history[-1][: , 0], \n",
    "            centroid_history[-1][: , 1],\n",
    "            color='blue', s=100, \n",
    "            zorder=500, alpha=1)\n",
    "\n",
    "plt.scatter(X[:, 0], X[:, 1], c=y, alpha=0.45)\n",
    "plt.show()"
   ]
  },
  {
   "cell_type": "code",
   "execution_count": null,
   "metadata": {
    "collapsed": true
   },
   "outputs": [],
   "source": []
  },
  {
   "cell_type": "code",
   "execution_count": null,
   "metadata": {
    "collapsed": true
   },
   "outputs": [],
   "source": []
  },
  {
   "cell_type": "code",
   "execution_count": null,
   "metadata": {
    "collapsed": true
   },
   "outputs": [],
   "source": []
  }
 ],
 "metadata": {
  "kernelspec": {
   "display_name": "Python 3",
   "language": "python",
   "name": "python3"
  },
  "language_info": {
   "codemirror_mode": {
    "name": "ipython",
    "version": 3
   },
   "file_extension": ".py",
   "mimetype": "text/x-python",
   "name": "python",
   "nbconvert_exporter": "python",
   "pygments_lexer": "ipython3",
   "version": "3.6.8"
  }
 },
 "nbformat": 4,
 "nbformat_minor": 2
}
