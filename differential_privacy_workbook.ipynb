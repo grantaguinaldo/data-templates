{
 "cells": [
  {
   "cell_type": "code",
   "execution_count": 1,
   "metadata": {
    "collapsed": true
   },
   "outputs": [],
   "source": [
    "import numpy as np\n",
    "from matplotlib import pyplot as plt\n",
    "%matplotlib inline\n",
    "\n",
    "\n",
    "random_state = 42\n",
    "plt.style.use(plt.style.available[22])"
   ]
  },
  {
   "cell_type": "code",
   "execution_count": 2,
   "metadata": {},
   "outputs": [
    {
     "data": {
      "image/png": "[encoded data removed]",
      "text/plain": [
       "<Figure size 1080x288 with 1 Axes>"
      ]
     },
     "metadata": {},
     "output_type": "display_data"
    }
   ],
   "source": [
    "np.random.seed(random_state)\n",
    "raw_data = np.random.laplace(0, 1, 1000)\n",
    "\n",
    "#Plot distribution\n",
    "plt.figure(figsize=(15,4))\n",
    "plt.hist(raw_data, bins=75, color='blue')\n",
    "plt.xlabel('X-Asis Values (arb. units)', fontsize=14)\n",
    "plt.ylabel('Y-Asis Values (arb. units)', fontsize=14)\n",
    "plt.yticks(np.arange(0, 110, 10), fontsize=12)\n",
    "plt.xticks(np.arange(-5, 10.1, 1), fontsize=12)\n",
    "plt.title('Points from Laplace Distribution', fontsize=14)\n",
    "plt.show()"
   ]
  },
  {
   "cell_type": "code",
   "execution_count": 3,
   "metadata": {
    "collapsed": true
   },
   "outputs": [],
   "source": [
    "#dp dataset = value + noise"
   ]
  },
  {
   "cell_type": "code",
   "execution_count": 159,
   "metadata": {},
   "outputs": [
    {
     "ename": "TypeError",
     "evalue": "'float' object is not subscriptable",
     "output_type": "error",
     "traceback": [
      "\u001b[0;31m---------------------------------------------------------------------------\u001b[0m",
      "\u001b[0;31mTypeError\u001b[0m                                 Traceback (most recent call last)",
      "\u001b[0;32m<ipython-input-159-f79c49c47256>\u001b[0m in \u001b[0;36m<module>\u001b[0;34m()\u001b[0m\n\u001b[1;32m      4\u001b[0m \u001b[0mamin\u001b[0m \u001b[0;34m=\u001b[0m \u001b[0mnp\u001b[0m\u001b[0;34m.\u001b[0m\u001b[0mmin\u001b[0m\u001b[0;34m(\u001b[0m\u001b[0mdataset\u001b[0m\u001b[0;34m)\u001b[0m\u001b[0;34m\u001b[0m\u001b[0;34m\u001b[0m\u001b[0m\n\u001b[1;32m      5\u001b[0m \u001b[0mamax\u001b[0m \u001b[0;34m=\u001b[0m \u001b[0mnp\u001b[0m\u001b[0;34m.\u001b[0m\u001b[0mmax\u001b[0m\u001b[0;34m(\u001b[0m\u001b[0mdataset\u001b[0m\u001b[0;34m)\u001b[0m\u001b[0;34m\u001b[0m\u001b[0;34m\u001b[0m\u001b[0m\n\u001b[0;32m----> 6\u001b[0;31m \u001b[0mdataset\u001b[0m \u001b[0;34m=\u001b[0m \u001b[0mdataset\u001b[0m\u001b[0;34m[\u001b[0m\u001b[0;34m(\u001b[0m\u001b[0mdataset\u001b[0m \u001b[0;34m>\u001b[0m \u001b[0mamin\u001b[0m\u001b[0;34m)\u001b[0m \u001b[0;34m&\u001b[0m \u001b[0;34m(\u001b[0m\u001b[0mdataset\u001b[0m \u001b[0;34m<\u001b[0m \u001b[0mamax\u001b[0m\u001b[0;34m)\u001b[0m\u001b[0;34m]\u001b[0m\u001b[0;34m\u001b[0m\u001b[0;34m\u001b[0m\u001b[0m\n\u001b[0m\u001b[1;32m      7\u001b[0m \u001b[0;34m\u001b[0m\u001b[0m\n\u001b[1;32m      8\u001b[0m \u001b[0;34m\u001b[0m\u001b[0m\n",
      "\u001b[0;31mTypeError\u001b[0m: 'float' object is not subscriptable"
     ]
    }
   ],
   "source": [
    "#np.random.seed(random_state)\n",
    "\n",
    "dataset = np.random.normal(5000)\n",
    "amin = np.min(dataset)\n",
    "amax = np.max(dataset)\n",
    "dataset = dataset[(dataset > amin) & (dataset < amax)]\n",
    "\n",
    "\n",
    "list_ = []\n",
    "counter = 0\n",
    "epsilon = 0.001\n",
    "overall_budget = 0\n",
    "N = len(dataset)\n",
    "delta = (amax-amin) / N\n",
    "b = delta/epsilon\n",
    "\n",
    "while (overall_budget <= 0.5):\n",
    "\n",
    "    means = np.median(dataset) + np.random.laplace(0, b, 50000)\n",
    "    list_.append(means)\n",
    "    counter += 1\n",
    "    overall_budget += epsilon\n",
    "    #print('Counter: {} // Budget: {}'.format(counter, overall_budget))\n",
    "    \n",
    "# print('Upper: {}'.format(np.quantile(means, 0.95)))\n",
    "# print('Lower: {}'.format(np.quantile(means, 0.05)))\n",
    "print('-----------------------')\n",
    "print('Mean of Dataset {}'.format(np.median(dataset)))\n",
    "print('Mean: {}'.format(np.median(list_)))\n",
    "print('Lower Limit: {}'.format(np.quantile(list_, 0.25)))\n",
    "print('Upper Limit: {}'.format(np.quantile(list_, 0.75)))\n",
    "\n",
    "\n",
    "plt.hist(means, bins=100)\n",
    "plt.show()"
   ]
  },
  {
   "cell_type": "code",
   "execution_count": 162,
   "metadata": {
    "collapsed": true
   },
   "outputs": [],
   "source": [
    "dataset = np.random.normal(1, 5000)\n"
   ]
  },
  {
   "cell_type": "code",
   "execution_count": 163,
   "metadata": {},
   "outputs": [
    {
     "data": {
      "text/plain": [
       "-8666.420657402668"
      ]
     },
     "execution_count": 163,
     "metadata": {},
     "output_type": "execute_result"
    }
   ],
   "source": [
    "dataset"
   ]
  },
  {
   "cell_type": "code",
   "execution_count": null,
   "metadata": {
    "collapsed": true
   },
   "outputs": [],
   "source": []
  }
 ],
 "metadata": {
  "kernelspec": {
   "display_name": "Python 3",
   "language": "python",
   "name": "python3"
  },
  "language_info": {
   "codemirror_mode": {
    "name": "ipython",
    "version": 3
   },
   "file_extension": ".py",
   "mimetype": "text/x-python",
   "name": "python",
   "nbconvert_exporter": "python",
   "pygments_lexer": "ipython3",
   "version": "3.6.8"
  }
 },
 "nbformat": 4,
 "nbformat_minor": 2
}
