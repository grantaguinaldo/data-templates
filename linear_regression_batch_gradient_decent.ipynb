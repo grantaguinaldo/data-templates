{
 "cells": [
  {
   "cell_type": "code",
   "execution_count": 1,
   "metadata": {},
   "outputs": [],
   "source": [
    "import numpy as np\n",
    "from sklearn.datasets import make_regression \n",
    "from matplotlib import pyplot as plt\n",
    "from sklearn.linear_model import LinearRegression\n",
    "\n",
    "X, y = make_regression(n_samples=10000, n_features=1, noise=12, random_state=42)"
   ]
  },
  {
   "cell_type": "code",
   "execution_count": 2,
   "metadata": {},
   "outputs": [
    {
     "data": {
      "image/png": "[encoded data removed]",
      "text/plain": [
       "<Figure size 432x288 with 1 Axes>"
      ]
     },
     "metadata": {
      "needs_background": "light"
     },
     "output_type": "display_data"
    }
   ],
   "source": [
    "plt.scatter(X, y)\n",
    "plt.show()"
   ]
  },
  {
   "cell_type": "code",
   "execution_count": 3,
   "metadata": {},
   "outputs": [
    {
     "name": "stdout",
     "output_type": "stream",
     "text": [
      "Slope: 31.909 Intercept: 0.157 r2: 0.876\n"
     ]
    }
   ],
   "source": [
    "reg = LinearRegression().fit(X, y)\n",
    "r2 = reg.score(X, y)\n",
    "print('Slope: {:.3f} Intercept: {:.3f} r2: {:.3f}'.format(reg.coef_[0], reg.intercept_, r2))"
   ]
  },
  {
   "cell_type": "code",
   "execution_count": 4,
   "metadata": {},
   "outputs": [],
   "source": [
    "X = np.array([each[0] for each in X])\n",
    "y = np.array(list(y))"
   ]
  },
  {
   "cell_type": "code",
   "execution_count": 5,
   "metadata": {},
   "outputs": [
    {
     "name": "stdout",
     "output_type": "stream",
     "text": [
      "First Five Elements from X: [-0.71657349 -0.84144951 -0.27667177 -0.01901621 -0.14451867]\n",
      "First Five Elements from y: [ -9.16189546 -43.95135778 -13.22193302 -25.29354068   2.45184035]\n"
     ]
    }
   ],
   "source": [
    "print('First Five Elements from X: {}'.format(X[:5]))\n",
    "print('First Five Elements from y: {}'.format(y[:5]))"
   ]
  },
  {
   "cell_type": "code",
   "execution_count": 6,
   "metadata": {},
   "outputs": [],
   "source": [
    "def gradient_decent(X, y, m_step, b_step, epochs, lr):\n",
    "\n",
    "    for i in range(epochs):\n",
    "    \n",
    "        y_pred = m_step*X + b_step\n",
    "        \n",
    "        #Define cost function (Root Mean Square Error)\n",
    "        cost = (1/len(X))*np.sum([each**2 for each in (y-y_pred)])\n",
    "        \n",
    "        #Calculate derivatives for slope and intercept.\n",
    "        dcost_dm = -(2/len(X))*np.sum(X*(y-y_pred))\n",
    "        dcost_db = -(2/len(X))*np.sum(y-y_pred)\n",
    "        \n",
    "        #Updates for the slope and the intercept for the steps\n",
    "        m_step = m_step-lr*dcost_dm\n",
    "        b_step = b_step-lr*dcost_db\n",
    "        \n",
    "        #Calculate r square value\n",
    "        ssr = np.sum((y_pred - y)**2)\n",
    "        sst = np.sum((y - np.mean(y))**2)\n",
    "        r_square = 1- (ssr/sst)\n",
    "\n",
    "        #print('Epoch: {} Cost: {:.3f} Intercept: {:.3f} Slope: {:.3f} R2: {:.3f}'.format(i, cost, b_step, m_step, r_square))\n",
    "    return (cost, m_step, b_step, r_square)"
   ]
  },
  {
   "cell_type": "code",
   "execution_count": 7,
   "metadata": {},
   "outputs": [],
   "source": [
    "results = gradient_decent(X, y, m_step=0, b_step=0, epochs=1000, lr=0.1)"
   ]
  },
  {
   "cell_type": "code",
   "execution_count": 8,
   "metadata": {},
   "outputs": [
    {
     "data": {
      "text/plain": [
       "(144.74875657632225,\n",
       " 31.908720752953005,\n",
       " 0.15749279892618961,\n",
       " 0.8762699435549564)"
      ]
     },
     "execution_count": 8,
     "metadata": {},
     "output_type": "execute_result"
    }
   ],
   "source": [
    "results"
   ]
  }
 ],
 "metadata": {
  "kernelspec": {
   "display_name": "Python 3",
   "language": "python",
   "name": "python3"
  },
  "language_info": {
   "codemirror_mode": {
    "name": "ipython",
    "version": 3
   },
   "file_extension": ".py",
   "mimetype": "text/x-python",
   "name": "python",
   "nbconvert_exporter": "python",
   "pygments_lexer": "ipython3",
   "version": "3.7.3"
  }
 },
 "nbformat": 4,
 "nbformat_minor": 2
}
